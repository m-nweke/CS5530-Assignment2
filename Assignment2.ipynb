{
  "nbformat": 4,
  "nbformat_minor": 0,
  "metadata": {
    "colab": {
      "provenance": []
    },
    "kernelspec": {
      "name": "python3",
      "display_name": "Python 3"
    },
    "language_info": {
      "name": "python"
    }
  },
  "cells": [
    {
      "cell_type": "markdown",
      "source": [
        "# Importing libraries"
      ],
      "metadata": {
        "id": "ytltOVATNgcs"
      }
    },
    {
      "cell_type": "code",
      "execution_count": null,
      "metadata": {
        "id": "XQX0K8CSNI2R"
      },
      "outputs": [],
      "source": [
        "import pandas as pd\n",
        "import numpy as np\n",
        "import random\n",
        "import seaborn as sns\n",
        "import matplotlib.pyplot as plt"
      ]
    },
    {
      "cell_type": "markdown",
      "source": [
        "# Setting a seed for reproducibility"
      ],
      "metadata": {
        "id": "mJdoafYqNmtL"
      }
    },
    {
      "cell_type": "code",
      "source": [
        "np.random.seed(123)"
      ],
      "metadata": {
        "id": "Izzb2x4mNdbS"
      },
      "execution_count": null,
      "outputs": []
    },
    {
      "cell_type": "markdown",
      "source": [
        "# Loading the dataset"
      ],
      "metadata": {
        "id": "C4YnlFVZNnjp"
      }
    },
    {
      "cell_type": "code",
      "source": [
        "df = pd.read_csv('diabetes.csv')\n"
      ],
      "metadata": {
        "id": "zamli1FXNdeh"
      },
      "execution_count": null,
      "outputs": []
    },
    {
      "cell_type": "markdown",
      "source": [
        "# Taking a random sample of 25 observations "
      ],
      "metadata": {
        "id": "wjwNioxSOMYI"
      }
    },
    {
      "cell_type": "code",
      "source": [
        "sample = df.sample(n=25)\n"
      ],
      "metadata": {
        "id": "ZLK2g2hpNdhm"
      },
      "execution_count": null,
      "outputs": []
    },
    {
      "cell_type": "markdown",
      "source": [
        "# Finding mean Glucose and highest Glucose values\n"
      ],
      "metadata": {
        "id": "GkJ7fOMWOSqS"
      }
    },
    {
      "cell_type": "code",
      "source": [
        "sample_mean = sample['Glucose'].mean()\n",
        "sample_mean"
      ],
      "metadata": {
        "colab": {
          "base_uri": "https://localhost:8080/"
        },
        "id": "_GZYz-opNdlz",
        "outputId": "d180c196-c593-4dc6-c140-64458947273a"
      },
      "execution_count": null,
      "outputs": [
        {
          "output_type": "execute_result",
          "data": {
            "text/plain": [
              "130.36"
            ]
          },
          "metadata": {},
          "execution_count": 7
        }
      ]
    },
    {
      "cell_type": "code",
      "source": [
        "sample_max = sample['Glucose'].max()\n",
        "sample_max"
      ],
      "metadata": {
        "colab": {
          "base_uri": "https://localhost:8080/"
        },
        "id": "tU0aCqSfPj7z",
        "outputId": "1125fde9-596c-40f3-d89d-9e37546859c9"
      },
      "execution_count": null,
      "outputs": [
        {
          "output_type": "execute_result",
          "data": {
            "text/plain": [
              "197"
            ]
          },
          "metadata": {},
          "execution_count": 8
        }
      ]
    },
    {
      "cell_type": "code",
      "source": [
        "population_mean = df['Glucose'].mean()\n",
        "population_mean"
      ],
      "metadata": {
        "colab": {
          "base_uri": "https://localhost:8080/"
        },
        "id": "ITlcn5B7Pj-y",
        "outputId": "e7a44e7f-ded7-4f04-d85a-6f35b44105d8"
      },
      "execution_count": null,
      "outputs": [
        {
          "output_type": "execute_result",
          "data": {
            "text/plain": [
              "120.89453125"
            ]
          },
          "metadata": {},
          "execution_count": 9
        }
      ]
    },
    {
      "cell_type": "code",
      "source": [
        "population_max = df['Glucose'].max()\n",
        "population_max"
      ],
      "metadata": {
        "colab": {
          "base_uri": "https://localhost:8080/"
        },
        "id": "jpRTCZGnPkBw",
        "outputId": "2f959f18-5958-4862-9edc-8f03c0c3ea92"
      },
      "execution_count": null,
      "outputs": [
        {
          "output_type": "execute_result",
          "data": {
            "text/plain": [
              "199"
            ]
          },
          "metadata": {},
          "execution_count": 10
        }
      ]
    },
    {
      "cell_type": "markdown",
      "source": [
        "# Comparing the statistics using a bar chart"
      ],
      "metadata": {
        "id": "SS9-KMutOgHT"
      }
    },
    {
      "cell_type": "code",
      "source": [
        "fig, ax = plt.subplots()\n",
        "ax.bar(['Sample Mean', 'Population Mean', 'Sample Max','Population Max'], [sample_mean, population_mean, sample_max, population_max])\n",
        "ax.set_ylabel('Glucose')\n",
        "ax.set_title('Comparison of Glucose Statistics')\n",
        "plt.show()"
      ],
      "metadata": {
        "colab": {
          "base_uri": "https://localhost:8080/",
          "height": 452
        },
        "id": "fIQwqQVcNdpH",
        "outputId": "bec4b27d-6a1a-43de-afa2-bd9b5639d54c"
      },
      "execution_count": null,
      "outputs": [
        {
          "output_type": "display_data",
          "data": {
            "text/plain": [
              "<Figure size 640x480 with 1 Axes>"
            ],
            "image/png": "[encoded data removed]"
          },
          "metadata": {}
        }
      ]
    },
    {
      "cell_type": "markdown",
      "source": [
        "# Finding the 98th percentile of BMI for the sample and the population\n"
      ],
      "metadata": {
        "id": "l1RDgVbyOi6k"
      }
    },
    {
      "cell_type": "code",
      "source": [
        "sample_98th_percentile = np.percentile(sample['BMI'], 98)\n",
        "\n",
        "sample_98th_percentile\n"
      ],
      "metadata": {
        "colab": {
          "base_uri": "https://localhost:8080/"
        },
        "id": "JTRpxo8rOmId",
        "outputId": "0f0c1d0f-b02e-4a25-c328-31d7d3d3ab3f"
      },
      "execution_count": null,
      "outputs": [
        {
          "output_type": "execute_result",
          "data": {
            "text/plain": [
              "45.263999999999996"
            ]
          },
          "metadata": {},
          "execution_count": 13
        }
      ]
    },
    {
      "cell_type": "code",
      "source": [
        "population_98th_percentile = np.percentile(df['BMI'], 98)\n",
        "\n",
        "population_98th_percentile"
      ],
      "metadata": {
        "colab": {
          "base_uri": "https://localhost:8080/"
        },
        "id": "CDR2WOqCQBQH",
        "outputId": "433b3cc0-7da3-4c8e-98de-cc38f332fba0"
      },
      "execution_count": null,
      "outputs": [
        {
          "output_type": "execute_result",
          "data": {
            "text/plain": [
              "47.52599999999996"
            ]
          },
          "metadata": {},
          "execution_count": 14
        }
      ]
    },
    {
      "cell_type": "markdown",
      "source": [
        "# Comparing the percentiles using a boxplot"
      ],
      "metadata": {
        "id": "xuikBUfaOnxN"
      }
    },
    {
      "cell_type": "code",
      "source": [
        "fig, ax = plt.subplots()\n",
        "sns.boxplot(data=[sample['BMI'], df['BMI']])\n",
        "ax.set_xticklabels(['Sample', 'Population'])\n",
        "ax.set_ylabel('BMI')\n",
        "ax.set_title('Comparison of BMI Percentiles')\n",
        "plt.show()"
      ],
      "metadata": {
        "colab": {
          "base_uri": "https://localhost:8080/",
          "height": 452
        },
        "id": "SKMhF5QwOrCx",
        "outputId": "ce02c1fe-3f20-4c33-c49b-40fe734bcf2c"
      },
      "execution_count": null,
      "outputs": [
        {
          "output_type": "display_data",
          "data": {
            "text/plain": [
              "<Figure size 640x480 with 1 Axes>"
            ],
            "image/png": "[encoded data removed]"
          },
          "metadata": {}
        }
      ]
    },
    {
      "cell_type": "markdown",
      "source": [
        "# Using bootstrap to create 500 samples of 150 observations each and finding the average mean, standard deviation, and percentile for BloodPressure\n"
      ],
      "metadata": {
        "id": "DESmSFTuOsbc"
      }
    },
    {
      "cell_type": "code",
      "source": [
        "bootstrap_means = []\n",
        "bootstrap_stds = []\n",
        "bootstrap_percentiles = []\n",
        "\n",
        "for i in range(500):\n",
        "    bootstrap_sample = df['BloodPressure'].sample(n=150, replace=True)\n",
        "    bootstrap_means.append(bootstrap_sample.mean())\n",
        "    bootstrap_stds.append(bootstrap_sample.std())\n",
        "    bootstrap_percentiles.append(np.percentile(bootstrap_sample, 90))\n",
        "    "
      ],
      "metadata": {
        "id": "6LUmFKqPO42j"
      },
      "execution_count": null,
      "outputs": []
    },
    {
      "cell_type": "markdown",
      "source": [
        "# compute the average of each array"
      ],
      "metadata": {
        "id": "n4A4YgV-qIW2"
      }
    },
    {
      "cell_type": "code",
      "source": [
        "mean_of_means = np.mean(bootstrap_means)\n",
        "mean_of_stds = np.mean(bootstrap_stds)\n",
        "mean_of_percentiles = np.mean(bootstrap_percentiles)\n",
        "\n",
        "print(\"Average of means:\", mean_of_means)\n",
        "print(\"Average of standard deviations:\", mean_of_stds)\n",
        "print(\"Average of 90th percentiles:\", mean_of_percentiles)"
      ],
      "metadata": {
        "colab": {
          "base_uri": "https://localhost:8080/"
        },
        "id": "bKUwZzYZqKNa",
        "outputId": "021ffcc7-2018-4944-a3d6-136523868695"
      },
      "execution_count": 47,
      "outputs": [
        {
          "output_type": "stream",
          "name": "stdout",
          "text": [
            "Average of means: 69.01453333333333\n",
            "Average of standard deviations: 19.517563533177775\n",
            "Average of 90th percentiles: 87.4064\n"
          ]
        }
      ]
    },
    {
      "cell_type": "markdown",
      "source": [
        "# Finding the mean, standard deviation, and percentile for BloodPressure in the population\n"
      ],
      "metadata": {
        "id": "QY3hLb-VPIr3"
      }
    },
    {
      "cell_type": "code",
      "source": [
        "population_bps = df['BloodPressure']"
      ],
      "metadata": {
        "id": "5NRACRbbpPeo"
      },
      "execution_count": 50,
      "outputs": []
    },
    {
      "cell_type": "code",
      "source": [
        "population_bp_mean = df['BloodPressure'].mean()\n",
        "population_bp_mean"
      ],
      "metadata": {
        "colab": {
          "base_uri": "https://localhost:8080/"
        },
        "id": "JZXnVQmuPJfv",
        "outputId": "28e18292-6182-432f-e222-62e7a9b644ff"
      },
      "execution_count": 44,
      "outputs": [
        {
          "output_type": "execute_result",
          "data": {
            "text/plain": [
              "69.10546875"
            ]
          },
          "metadata": {},
          "execution_count": 44
        }
      ]
    },
    {
      "cell_type": "code",
      "source": [],
      "metadata": {
        "id": "sPD5HflGpQSC"
      },
      "execution_count": null,
      "outputs": []
    },
    {
      "cell_type": "code",
      "source": [
        "population_bp_std = df['BloodPressure'].std()\n",
        "population_bp_std"
      ],
      "metadata": {
        "colab": {
          "base_uri": "https://localhost:8080/"
        },
        "id": "SLdjUTXZQlNz",
        "outputId": "94e6d181-8a04-4c97-95f9-9ac3dd4101a7"
      },
      "execution_count": null,
      "outputs": [
        {
          "output_type": "execute_result",
          "data": {
            "text/plain": [
              "19.355807170644777"
            ]
          },
          "metadata": {},
          "execution_count": 33
        }
      ]
    },
    {
      "cell_type": "code",
      "source": [],
      "metadata": {
        "id": "wMyzYuyGpRPi"
      },
      "execution_count": null,
      "outputs": []
    },
    {
      "cell_type": "code",
      "source": [
        "population_bp_percentile = np.percentile(df['BloodPressure'], 90)\n",
        "population_bp_percentile"
      ],
      "metadata": {
        "colab": {
          "base_uri": "https://localhost:8080/"
        },
        "id": "ZLELpx5rQlQa",
        "outputId": "f0c10511-1048-4924-e736-9c4787686c5f"
      },
      "execution_count": null,
      "outputs": [
        {
          "output_type": "execute_result",
          "data": {
            "text/plain": [
              "88.0"
            ]
          },
          "metadata": {},
          "execution_count": 34
        }
      ]
    },
    {
      "cell_type": "markdown",
      "source": [
        "# Comparing the statistics using a bar graph\n"
      ],
      "metadata": {
        "id": "43qxWTlEPLVV"
      }
    },
    {
      "cell_type": "code",
      "source": [
        "labels = ['Population', 'Bootstrap']\n",
        "means = [population_bp_mean, mean_of_means]\n",
        "x_pos = range(len(labels))\n",
        "\n",
        "plt.bar(x_pos, means, align='center', alpha=0.5)\n",
        "plt.xticks(x_pos, labels)\n",
        "plt.ylabel('Mean')\n",
        "plt.title('Mean Blood Pressure')\n",
        "\n",
        "plt.show()\n",
        "\n"
      ],
      "metadata": {
        "colab": {
          "base_uri": "https://localhost:8080/",
          "height": 452
        },
        "id": "XWdFcFkvPNJc",
        "outputId": "55e1e78e-37fd-4b3d-fcb4-5f4560c8c283"
      },
      "execution_count": 48,
      "outputs": [
        {
          "output_type": "display_data",
          "data": {
            "text/plain": [
              "<Figure size 640x480 with 1 Axes>"
            ],
            "image/png": "[encoded data removed]"
          },
          "metadata": {}
        }
      ]
    },
    {
      "cell_type": "markdown",
      "source": [
        "# Boxplot for standard deviation comparison\n"
      ],
      "metadata": {
        "id": "pNChCbWkRRMw"
      }
    },
    {
      "cell_type": "code",
      "source": [
        "fig, ax = plt.subplots()\n",
        "sns.boxplot(data=[bootstrap_means, [population_bps]])\n",
        "ax.set_xticklabels(['Bootstrap Sample', 'Population'])\n",
        "ax.set_ylabel('BloodPressure')\n",
        "ax.set_title('Comparison of BloodPressure Standard Deviations')\n",
        "plt.show()"
      ],
      "metadata": {
        "id": "i9vN04YXPP1O",
        "colab": {
          "base_uri": "https://localhost:8080/",
          "height": 452
        },
        "outputId": "092a4745-5cb1-4aec-eab8-ae2ad4ae8b24"
      },
      "execution_count": 52,
      "outputs": [
        {
          "output_type": "display_data",
          "data": {
            "text/plain": [
              "<Figure size 640x480 with 1 Axes>"
            ],
            "image/png": "[encoded data removed]"
          },
          "metadata": {}
        }
      ]
    },
    {
      "cell_type": "markdown",
      "source": [
        "# Bar graph for percentile comparison\n"
      ],
      "metadata": {
        "id": "7QZtC_vSRWSO"
      }
    },
    {
      "cell_type": "code",
      "source": [
        "labels = ['Population', 'Bootstrap']\n",
        "percentiles = [np.percentile(df['BloodPressure'], 90), mean_of_percentiles]\n",
        "x_pos = range(len(labels))\n",
        "\n",
        "plt.bar(x_pos, percentiles, align='center', alpha=0.5)\n",
        "plt.xticks(x_pos, labels)\n",
        "plt.ylabel('90th Percentile')\n",
        "plt.title('90th Percentile of Blood Pressure')\n",
        "\n",
        "plt.show()"
      ],
      "metadata": {
        "colab": {
          "base_uri": "https://localhost:8080/",
          "height": 452
        },
        "id": "u5-y_exAPRtc",
        "outputId": "d4179926-bd4e-4add-effd-b46244df081c"
      },
      "execution_count": 53,
      "outputs": [
        {
          "output_type": "display_data",
          "data": {
            "text/plain": [
              "<Figure size 640x480 with 1 Axes>"
            ],
            "image/png": "[encoded data removed]"
          },
          "metadata": {}
        }
      ]
    },
    {
      "cell_type": "markdown",
      "source": [],
      "metadata": {
        "id": "Qp1A62jPRn8w"
      }
    }
  ]
}